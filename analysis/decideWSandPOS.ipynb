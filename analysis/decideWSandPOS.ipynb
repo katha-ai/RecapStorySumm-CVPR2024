{
 "cells": [
  {
   "cell_type": "code",
   "execution_count": 1,
   "metadata": {},
   "outputs": [
    {
     "name": "stderr",
     "output_type": "stream",
     "text": [
      "/home/rodo/miniconda3/envs/rodo_main/lib/python3.8/site-packages/tqdm/auto.py:21: TqdmWarning: IProgress not found. Please update jupyter and ipywidgets. See https://ipywidgets.readthedocs.io/en/stable/user_install.html\n",
      "  from .autonotebook import tqdm as notebook_tqdm\n"
     ]
    }
   ],
   "source": [
    "import os, pickle\n",
    "import numpy as np\n",
    "import pandas as pd\n",
    "import sys, os, torch\n",
    "from pathlib import Path\n",
    "from typing import List, Dict, Tuple, Union, Optional, Any, BinaryIO\n",
    "from sklearn.metrics import (precision_score, recall_score,\n",
    "                             average_precision_score, f1_score,\n",
    "                             precision_recall_curve)\n",
    "\n",
    "sys.path.append(os.path.abspath(\"../\"))\n",
    "from utils.general_utils import load_pickle, readVidEvents, get_file_name\n",
    "from misc.all_label_generator import triangle_smoother, get_smoothed_labels, vidSeg2labels\n"
   ]
  },
  {
   "cell_type": "markdown",
   "metadata": {
    "tags": []
   },
   "source": [
    "### Sec 1"
   ]
  },
  {
   "cell_type": "markdown",
   "metadata": {},
   "source": [
    "**Generate AP score for each episode in `24`...**"
   ]
  },
  {
   "cell_type": "code",
   "execution_count": 47,
   "metadata": {},
   "outputs": [],
   "source": [
    "def generate_APs(series:str, season:str, episode:str, seg_start, seg_end, window_sizes=list(range(2, 15)), modality='vid'):\n",
    "    \"\"\"\n",
    "    Generate different APs for different window sizes.\n",
    "    \"\"\"\n",
    "    next_ep = \"E%02d\" % (int(episode[-2:]) + 1)\n",
    "    if modality == 'vid':\n",
    "        gl = load_pickle(f\"../data/{series}/{season}/{season}{next_ep}/scores/\"+\\\n",
    "                         \"vid_scores/recapVepisode/GT.pkl\")[episode]\n",
    "    else:\n",
    "        gl = load_pickle(f\"../data/{series}/{season}/{season}{next_ep}/scores/\"+\\\n",
    "                         \"dia_scores/recapVepisode/GT.pkl\")[episode]\n",
    "\n",
    "    # generate manual labels\n",
    "    if modality == 'vid':\n",
    "        ml = vidSeg2labels(seg_start, seg_end, series, season, episode)\n",
    "    elif modality == 'dia':\n",
    "        dia_file = get_file_name(fr\"../data/{series}/{season}/{season}{next_ep}/encodings/dia_encodings/newSrtObj_*.pkl\")\n",
    "        start = int(dia_file.stem.split(\"_\")[-1]) + 1\n",
    "        ml = load_pickle(f\"../data/{series}/{season}/{season}{next_ep}/scores/\"+\\\n",
    "                         \"dia_scores/recapVepisode/SLV.pkl\")[episode][start:]\n",
    "        ml = (ml>0.5).astype(np.int32)\n",
    "        gl = gl[start:]\n",
    "        assert len(gl) == len(ml), f\"Length of Ground-Truth doesn't match with Manual Labels\"\n",
    "\n",
    "    APs = {}\n",
    "    for k in window_sizes:\n",
    "        sl = get_smoothed_labels(gl, half_base_len=k)\n",
    "        AP = average_precision_score(ml, sl)\n",
    "        APs[k] = AP\n",
    "    APs['best'] = max(APs, key = lambda x: APs[x])\n",
    "    return APs\n",
    "\n",
    "# WE GOT HALF_BASE_LEN = 10 AS BEST\n",
    "\n",
    "# so we've Ground-Truth labels (gl), Smoothed labels (sl), and Manual labels (ml)\n",
    "# WORK TODO: compare the three labels\n",
    "# Steps:\n",
    "# 1. Compare gl and ml; Compute precision, recall, f1 (Just to get idea - how worse is it?)\n",
    "# 2. Compare sl and ml; Compute AP. Based on best threshold from P-R curve, compute precision, recall, f1\n",
    "# 3. Vary `half_base_len` and see how it affects the AP, f1.\n",
    "#    Choose that value which gives best results.\n",
    "# Note: By default, we assume shots from same segment can't be more than 10 shot-distances apart. Hence threshold of 11 has been used while generating ground-truth labels in shotFinder() function."
   ]
  },
  {
   "cell_type": "code",
   "execution_count": 46,
   "metadata": {},
   "outputs": [],
   "source": [
    "fandom_time_new_segs = {'S02E21': {'beg': [243.389, 336.44, 492.263, 692.463, 1064.042, 1854.04, 2338.566, 2468.195, 2568.629],\n",
    "            'end': [272.752, 353.374, 535.264, 732.002, 1118.096, 1917.52, 2453.639, 2509.486, 2605.749], 'fps': 23.976023976023978},\n",
    " 'S02E23': {'beg': [596.242, 745.057, 1296.817, 1464.109, 1683.703, 1800.403, 1871.224, 2237.673, 2457.685, 2515.075],\n",
    "            'end': [646.458, 805.826, 1353.206, 1522.542, 1720.907, 1830.85, 1945.631, 2365.175, 2491.551, 2544.104], 'fps': 23.976023976023978},\n",
    " 'S03E20': {'beg': [222.034, 814.626, 901.38, 957.561, 2014.951, 2381.775, 2508.819],\n",
    "            'end': [265.119, 867.679, 924.82, 1052.239, 2075.761, 2431.617, 2585.479], 'fps': 23.976023976023978},\n",
    " 'S03E22': {'beg': [113.301, 418.814, 644.498, 1622.892, 2147.291, 2226.162, 2236.839, 2286.931, 2371.974],\n",
    "            'end': [140.911, 502.856, 721.325, 1679.407, 2211.271, 2231.125, 2279.339, 2329.973, 2409.928], 'fps': 23.976023976023978},\n",
    " 'S04E20': {'beg': [251.564, 389.994, 716.403, 789.518, 1213.608, 1492.721, 1585.814, 1769.497, 1996.182, 2230.416, 2300.611, 2473.867, 2533.761],\n",
    "            'end': [296.859, 416.145, 771.75, 879.274, 1266.327, 1560.038, 1646.04, 1807.368, 2069.129, 2256.233, 2397.082, 2502.145, 2560.954], 'fps': 23.976023976023978},\n",
    " 'S04E21': {'beg': [139.869, 691.837, 1018.372, 1129.9, 2101.912, 2344.989, 2379.481],\n",
    "            'end': [160.056, 736.84, 1054.783, 1196.716, 2179.615, 2377.187, 2595.363], 'fps': 23.976023976023978},\n",
    " 'S05E21': {'beg': [623.811, 871.809, 1519.998, 1562.957, 1808.578, 1866.219, 2008.903, 2076.012, 2413.641, 2545.856],\n",
    "            'end': [722.242, 1110.797, 1527.839, 1603.831, 1837.815, 1897.5, 2053.113, 2088.315, 2498.934, 2559.327], 'fps': 23.976023976023978},\n",
    " 'S05E22': {'beg': [434.413, 677.239, 968.655, 1113.425, 1193.171, 1531.885, 2087.398, 2266.368, 2363.549, 2418.52, 2459.979, 2516.577],\n",
    "            'end': [481.585, 765.035, 999.728, 1127.689, 1257.402, 1607.627, 2098.325, 2312.956, 2400.21, 2448.05, 2471.365, 2569.046], 'fps': 23.976023976023978},\n",
    " 'S06E20': {'beg': [557.495, 716.195, 852.956, 1153.382, 1386.489, 1558.995, 1879.857, 2016.786, 2178.364, 2505.149],\n",
    "            'end': [675.654, 767.537, 950.262, 1231.793, 1484.837, 1595.114, 1900.586, 2038.724, 2316.71, 2567.21], 'fps': 23.976023976023978},\n",
    " 'S06E21': {'beg': [741.387, 1058.912, 1154.299, 1540.185, 1789.851, 1857.46, 1864.759, 1945.756, 2015.576, 2104.624, 2338.023, 2514.45],\n",
    "            'end': [786.056, 1084.02, 1179.157, 1589.108, 1831.392, 1864.717, 1891.786, 1975.119, 2056.158, 2191.585, 2417.853, 2552.779], 'fps': 23.976023976023978},\n",
    " 'S06E22': {'beg': [157.553, 553.532, 698.844, 818.422, 1543.855, 2072.883, 2309.537, 2394.204, 2525.544],\n",
    "            'end': [179.617, 667.02, 717.863, 911.181, 1602.83, 2216.276, 2356.208, 2478.956, 2556.366], 'fps': 23.976023976023978},\n",
    " 'S06E23': {'beg': [319.882, 564.251, 1470.407, 1736.464, 1959.979, 2290.142, 2444.797],\n",
    "            'end': [390.911, 637.783, 1521.374, 1779.84, 2033.677, 2342.152, 2475.702], 'fps': 23.976023976023978},\n",
    " 'S07E20': {'beg': [486.09, 644.415, 743.889, 895.082, 1254.608, 2142.662, 2300.861, 2560.788],\n",
    "            'end': [585.355, 712.065, 892.079, 1053.615, 1430.992, 2272.332, 2397.666, 2587.105], 'fps': 23.976023976023978},\n",
    " 'S07E22': {'beg': [805.826, 1153.548, 1322.133, 1591.778, 1737.924, 1811.539, 2430.24],\n",
    "            'end': [987.507, 1222.909, 1374.727, 1689.709, 1753.981, 1849.66, 2485.003], 'fps': 23.976023976023978},\n",
    " 'S07E23': {'beg': [176.739, 240.928, 274.045, 428.366, 660.055, 731.961, 852.373, 906.635, 2089.859, 2277.797, 2358.836, 2478.622],\n",
    "            'end': [226.372, 258.279, 311.207, 546.9, 701.597, 826.43, 863.8, 918.438, 2198.926, 2324.134, 2442.419, 2494.429], 'fps': 23.976023976023978},\n",
    " 'S08E21': {'beg': [589.276, 776.046, 852.331, 1137.908, 1490.927, 2027.296, 2129.19, 2312.873, 2536.013],\n",
    "            'end': [635.03, 812.958, 903.507, 1228.289, 1670.857, 2071.966, 2145.122, 2513.782, 2591.985], 'fps': 23.976023976023978},\n",
    " 'S08E22': {'beg': [285.139, 459.647, 838.15, 1200.429, 1423.443, 1815.501, 2111.297, 2303.823, 2411.347],\n",
    "            'end': [380.109, 515.202, 885.28, 1260.572, 1513.950, 1873.100, 2226.995, 2371.557, 2528.964], 'fps': 23.976023976023978}}"
   ]
  },
  {
   "cell_type": "code",
   "execution_count": null,
   "metadata": {
    "tags": []
   },
   "outputs": [],
   "source": [
    "# Estimate shot number from the time-segments given above using vid_events file...\n",
    "shots_segs = {}\n",
    "for key, val in fandom_time_new_segs.items():\n",
    "    season = key[:3]\n",
    "    episode  = key[-3:]\n",
    "    vid_events = readVidEvents(f\"../data/24/{season}/{key}/videvents/{key}.videvents\")\n",
    "    shots_segs[key] = {'beg':[], 'end':[]}\n",
    "    for start, end in zip(val['beg'], val['end']):\n",
    "        k = 0; tmp_lst = []\n",
    "        while vid_events[k][1] < start:\n",
    "            k += 1\n",
    "        while start <= vid_events[k][1] < end:\n",
    "            tmp_lst.append(k+1)# as in videvents shot index 1 is there not 0th.\n",
    "            k += 1\n",
    "        shots_segs[key]['beg'].append(tmp_lst[0])\n",
    "        shots_segs[key]['end'].append(tmp_lst[-1])\n",
    "\n",
    "print(shots_segs)"
   ]
  },
  {
   "cell_type": "code",
   "execution_count": null,
   "metadata": {},
   "outputs": [],
   "source": [
    "\"\"\" module_mapping = {'vid_utils':'utils.vid_utils'}\n",
    "update_module_references(\"../data/24/S02/S02E02/encodings/vid_encodings/episode_OBJ.pkl\",\n",
    "                         \"../data/24/S02/S02E02/encodings/vid_encodings/episode_OBJ.pkl\",\n",
    "                         module_mapping)\n",
    " obj = load_pickle(\"../data/24/S02/S02E02/scores/vid_scores/recapVepisode/GT.pkl\")\"\"\""
   ]
  },
  {
   "cell_type": "markdown",
   "metadata": {},
   "source": [
    "##### Evaluate which window size is best for smoothing..."
   ]
  },
  {
   "cell_type": "code",
   "execution_count": 48,
   "metadata": {
    "collapsed": true,
    "jupyter": {
     "outputs_hidden": true
    },
    "tags": []
   },
   "outputs": [
    {
     "data": {
      "text/plain": [
       "{'S02E21': {2: 0.3773673135375263,\n",
       "  3: 0.4034595458610251,\n",
       "  4: 0.41280307254260723,\n",
       "  5: 0.4133169278122555,\n",
       "  6: 0.41711545543903444,\n",
       "  7: 0.42440101924168255,\n",
       "  8: 0.4197049506255487,\n",
       "  9: 0.40769946491947956,\n",
       "  10: 0.4035321667142382,\n",
       "  11: 0.397123106031443,\n",
       "  12: 0.38935395706167214,\n",
       "  13: 0.3830397472039517,\n",
       "  14: 0.37873059103957085,\n",
       "  'best': 7},\n",
       " 'S02E23': {2: 0.4848116377287579,\n",
       "  3: 0.5371016656217018,\n",
       "  4: 0.561485780902815,\n",
       "  5: 0.5807526742659725,\n",
       "  6: 0.5838543804804524,\n",
       "  7: 0.5985530168173724,\n",
       "  8: 0.5943656166708395,\n",
       "  9: 0.5922528076609288,\n",
       "  10: 0.5846227845288217,\n",
       "  11: 0.5798132139891182,\n",
       "  12: 0.5714691170261306,\n",
       "  13: 0.5597905017326373,\n",
       "  14: 0.5413220991057369,\n",
       "  'best': 7},\n",
       " 'S03E20': {2: 0.7293772032902468,\n",
       "  3: 0.7412564942268297,\n",
       "  4: 0.7755805167379797,\n",
       "  5: 0.7473394954237295,\n",
       "  6: 0.7226013647520073,\n",
       "  7: 0.6953010699104596,\n",
       "  8: 0.6736390267574512,\n",
       "  9: 0.639310002827619,\n",
       "  10: 0.5928012824911488,\n",
       "  11: 0.588681389162159,\n",
       "  12: 0.5732019370033014,\n",
       "  13: 0.551074872553988,\n",
       "  14: 0.5352084193736738,\n",
       "  'best': 4},\n",
       " 'S03E22': {2: 0.5012525620700413,\n",
       "  3: 0.561952501709409,\n",
       "  4: 0.6018306968246554,\n",
       "  5: 0.6170496577062656,\n",
       "  6: 0.6326633327080309,\n",
       "  7: 0.6383049660767044,\n",
       "  8: 0.655200884341804,\n",
       "  9: 0.6516553165411818,\n",
       "  10: 0.6527702577578446,\n",
       "  11: 0.6410075911479296,\n",
       "  12: 0.6319853754263464,\n",
       "  13: 0.6201305291667275,\n",
       "  14: 0.5979889636045709,\n",
       "  'best': 8},\n",
       " 'S04E20': {2: 0.514249059185768,\n",
       "  3: 0.5794742102142454,\n",
       "  4: 0.619258050834946,\n",
       "  5: 0.6375432594867416,\n",
       "  6: 0.642095275435797,\n",
       "  7: 0.6528315373999454,\n",
       "  8: 0.648475111380747,\n",
       "  9: 0.6403964544976332,\n",
       "  10: 0.6393577888797642,\n",
       "  11: 0.6444986289179767,\n",
       "  12: 0.637489298559988,\n",
       "  13: 0.6217746126124013,\n",
       "  14: 0.6103133837654822,\n",
       "  'best': 7},\n",
       " 'S04E21': {2: 0.47009165192803637,\n",
       "  3: 0.5107666377664387,\n",
       "  4: 0.5437355442569178,\n",
       "  5: 0.57782320476592,\n",
       "  6: 0.6047021848399622,\n",
       "  7: 0.6335025092444222,\n",
       "  8: 0.6493589240428316,\n",
       "  9: 0.6719551212237083,\n",
       "  10: 0.6867298845278206,\n",
       "  11: 0.6943113386177606,\n",
       "  12: 0.6934234197207916,\n",
       "  13: 0.6879320919495632,\n",
       "  14: 0.6821595275193716,\n",
       "  'best': 11},\n",
       " 'S05E21': {2: 0.5718155239623939,\n",
       "  3: 0.6021505550266677,\n",
       "  4: 0.6239233600972875,\n",
       "  5: 0.6171361260101806,\n",
       "  6: 0.6206926855929684,\n",
       "  7: 0.6302889520002433,\n",
       "  8: 0.6222098299588343,\n",
       "  9: 0.6087179515979009,\n",
       "  10: 0.6035129025362358,\n",
       "  11: 0.5977726102840035,\n",
       "  12: 0.5955711545342819,\n",
       "  13: 0.5826923966287771,\n",
       "  14: 0.572612605273206,\n",
       "  'best': 7},\n",
       " 'S05E22': {2: 0.5967072763464183,\n",
       "  3: 0.649286590653626,\n",
       "  4: 0.6727167602824027,\n",
       "  5: 0.6465946945258377,\n",
       "  6: 0.6215481776585731,\n",
       "  7: 0.6044755452546826,\n",
       "  8: 0.5861247763263576,\n",
       "  9: 0.5606062343563288,\n",
       "  10: 0.5438327078577496,\n",
       "  11: 0.5310518778280374,\n",
       "  12: 0.5201739328562649,\n",
       "  13: 0.5079534147685107,\n",
       "  14: 0.4901162154557959,\n",
       "  'best': 4},\n",
       " 'S06E20': {2: 0.6065524827260413,\n",
       "  3: 0.6690809729257947,\n",
       "  4: 0.6842637977296547,\n",
       "  5: 0.6733752279894636,\n",
       "  6: 0.6539272327361453,\n",
       "  7: 0.6365499733236019,\n",
       "  8: 0.61098075091546,\n",
       "  9: 0.6009003841176017,\n",
       "  10: 0.5836689051623841,\n",
       "  11: 0.571875075853765,\n",
       "  12: 0.5521874384830997,\n",
       "  13: 0.545682584196212,\n",
       "  14: 0.5325392869609725,\n",
       "  'best': 4},\n",
       " 'S06E21': {2: 0.5211990863230493,\n",
       "  3: 0.5694721547453307,\n",
       "  4: 0.5882373303342208,\n",
       "  5: 0.5840556672777263,\n",
       "  6: 0.5986925783851536,\n",
       "  7: 0.5793783171418159,\n",
       "  8: 0.5865002965785371,\n",
       "  9: 0.5892462088313577,\n",
       "  10: 0.5829054349896899,\n",
       "  11: 0.5726315488182381,\n",
       "  12: 0.5603537604628509,\n",
       "  13: 0.5359535079338132,\n",
       "  14: 0.5165994412983083,\n",
       "  'best': 6},\n",
       " 'S06E22': {2: 0.5848847293375286,\n",
       "  3: 0.6021538625687111,\n",
       "  4: 0.6309441503642306,\n",
       "  5: 0.6149847547346697,\n",
       "  6: 0.6078613260660822,\n",
       "  7: 0.5798348649276787,\n",
       "  8: 0.5878978784533858,\n",
       "  9: 0.5695603329067116,\n",
       "  10: 0.5712639257366288,\n",
       "  11: 0.5549077329030789,\n",
       "  12: 0.5538915741469581,\n",
       "  13: 0.5501665941824345,\n",
       "  14: 0.5523678344367924,\n",
       "  'best': 4},\n",
       " 'S06E23': {2: 0.5732618536822076,\n",
       "  3: 0.6042326801261436,\n",
       "  4: 0.6258297151156826,\n",
       "  5: 0.5978312305238747,\n",
       "  6: 0.5970765523220358,\n",
       "  7: 0.5923390204356314,\n",
       "  8: 0.5740394045591344,\n",
       "  9: 0.549701316691373,\n",
       "  10: 0.5395996599618528,\n",
       "  11: 0.524866835935304,\n",
       "  12: 0.5022944937581283,\n",
       "  13: 0.4839466117737438,\n",
       "  14: 0.46542487766075935,\n",
       "  'best': 4},\n",
       " 'S07E20': {2: 0.6540033139846233,\n",
       "  3: 0.7101070994274226,\n",
       "  4: 0.7499943541870153,\n",
       "  5: 0.7646536575823203,\n",
       "  6: 0.7799922793659191,\n",
       "  7: 0.8010133764285676,\n",
       "  8: 0.8039043540807013,\n",
       "  9: 0.8052079824675995,\n",
       "  10: 0.7985647072668067,\n",
       "  11: 0.7969686161908667,\n",
       "  12: 0.789794526507731,\n",
       "  13: 0.7761554023639786,\n",
       "  14: 0.7627409399252598,\n",
       "  'best': 9},\n",
       " 'S07E22': {2: 0.5170068712837457,\n",
       "  3: 0.5499219293280011,\n",
       "  4: 0.578734316418507,\n",
       "  5: 0.5830856991324191,\n",
       "  6: 0.5761801857491395,\n",
       "  7: 0.5789760090355808,\n",
       "  8: 0.5768944416722221,\n",
       "  9: 0.5610607396830398,\n",
       "  10: 0.5568897680168852,\n",
       "  11: 0.5561680691110532,\n",
       "  12: 0.5473046527987777,\n",
       "  13: 0.5446101258200648,\n",
       "  14: 0.5387122051750115,\n",
       "  'best': 5},\n",
       " 'S07E23': {2: 0.49137594987320876,\n",
       "  3: 0.5265687181175276,\n",
       "  4: 0.5459110303682675,\n",
       "  5: 0.5613726569104774,\n",
       "  6: 0.5706623409820609,\n",
       "  7: 0.5707757414857432,\n",
       "  8: 0.5606517281281236,\n",
       "  9: 0.5680609388275891,\n",
       "  10: 0.5614443944484291,\n",
       "  11: 0.5546024273189825,\n",
       "  12: 0.5499821938606028,\n",
       "  13: 0.5505310137726199,\n",
       "  14: 0.5440375389810015,\n",
       "  'best': 7},\n",
       " 'S08E21': {2: 0.6475504316306968,\n",
       "  3: 0.682221243145943,\n",
       "  4: 0.7123323504037877,\n",
       "  5: 0.7069097375953133,\n",
       "  6: 0.6958059674315014,\n",
       "  7: 0.6952962459555188,\n",
       "  8: 0.684375312666628,\n",
       "  9: 0.6702713406647139,\n",
       "  10: 0.661088775565155,\n",
       "  11: 0.6555400823518887,\n",
       "  12: 0.6416848576623578,\n",
       "  13: 0.6302547496348738,\n",
       "  14: 0.6047530629592117,\n",
       "  'best': 4},\n",
       " 'S08E22': {2: 0.5831642045263887,\n",
       "  3: 0.6370666184156859,\n",
       "  4: 0.6394500778563019,\n",
       "  5: 0.6491246131000803,\n",
       "  6: 0.647092058419688,\n",
       "  7: 0.6447544509374064,\n",
       "  8: 0.6232810601938036,\n",
       "  9: 0.6181464962252307,\n",
       "  10: 0.610003584440376,\n",
       "  11: 0.6004914864829243,\n",
       "  12: 0.588669691423584,\n",
       "  13: 0.5833533819145763,\n",
       "  14: 0.5696224579393268,\n",
       "  'best': 5}}"
      ]
     },
     "execution_count": 48,
     "metadata": {},
     "output_type": "execute_result"
    }
   ],
   "source": [
    "APs = {}\n",
    "for ep, time in shots_segs.items():\n",
    "    APs[ep] = generate_APs(season=ep[:3], series=24, episode=ep[-3:], seg_start=time['beg'], seg_end=time['end'], modality='vid')\n",
    "\n",
    "APs"
   ]
  },
  {
   "cell_type": "code",
   "execution_count": 52,
   "metadata": {},
   "outputs": [
    {
     "name": "stdout",
     "output_type": "stream",
     "text": [
      "Mean AP = 0.6449494502131495; Stddev = 0.0823425627465252\n"
     ]
    }
   ],
   "source": [
    "AP_lst = [APs[k][APs[k]['best']] for k in APs]\n",
    "print(f\"Mean AP = {np.mean(AP_lst)}; Stddev = {np.std(AP_lst)}\")"
   ]
  },
  {
   "cell_type": "code",
   "execution_count": 53,
   "metadata": {},
   "outputs": [
    {
     "data": {
      "text/plain": [
       "6.0588235294117645"
      ]
     },
     "execution_count": 53,
     "metadata": {},
     "output_type": "execute_result"
    }
   ],
   "source": [
    "optimal_window_size_vid = np.mean([APs[k]['best'] for k in APs])\n",
    "optimal_window_size_vid"
   ]
  },
  {
   "cell_type": "code",
   "execution_count": 43,
   "metadata": {},
   "outputs": [
    {
     "data": {
      "text/plain": [
       "9.294117647058824"
      ]
     },
     "execution_count": 43,
     "metadata": {},
     "output_type": "execute_result"
    }
   ],
   "source": [
    "APs_dia = {}\n",
    "for ep, time in shots_segs.items():\n",
    "    APs_dia[ep] = generate_APs(season=ep[:3], series=24, episode=ep[-3:], seg_start=time['beg'], seg_end=time['end'], modality='dia')\n",
    "optimal_window_size_dia = np.mean([APs_dia[k]['best'] for k in APs_dia])\n",
    "optimal_window_size_dia"
   ]
  },
  {
   "cell_type": "code",
   "execution_count": 54,
   "metadata": {},
   "outputs": [
    {
     "name": "stdout",
     "output_type": "stream",
     "text": [
      "Mean AP = 0.7268071542307943; Stddev = 0.0772461076731156\n"
     ]
    }
   ],
   "source": [
    "APs_dia_lst = [APs_dia[k][APs_dia[k]['best']] for k in APs_dia]\n",
    "print(f\"Mean AP = {np.mean(APs_dia_lst)}; Stddev = {np.std(APs_dia_lst)}\")"
   ]
  },
  {
   "cell_type": "code",
   "execution_count": 11,
   "metadata": {},
   "outputs": [],
   "source": [
    "# # for 23 from 22\n",
    "# seg_start_22 = [47, 144, 175, 217, 496, 679, 743, 782, 802]\n",
    "# seg_end_22 = [57, 161, 178, 227, 505, 730, 757, 792, 810]\n",
    "\n",
    "# # for 21 from 20\n",
    "# seg_start_20 = [79, 247, 266, 282, 608, 708, 749]\n",
    "# seg_end_20 = [89, 259, 273, 305, 625, 730, 776]"
   ]
  },
  {
   "cell_type": "markdown",
   "metadata": {
    "tags": []
   },
   "source": [
    "### Sec 2"
   ]
  },
  {
   "cell_type": "code",
   "execution_count": 2,
   "metadata": {},
   "outputs": [],
   "source": [
    "def count_positives(series, seasons, total_eps, modality=\"vid\", verbose=0):\n",
    "    global_dict = {}\n",
    "    for season, total_ep in zip(seasons, total_eps):\n",
    "        path = f\"../data/{series}/{season}/\"\n",
    "        all_eps = [\"E%02d\"%k for k in range(2, total_ep+1)]\n",
    "        ratio_dict = {}\n",
    "        for ep in all_eps:\n",
    "            prev_ep = \"E%02d\"%(int(ep[-2:])-1)\n",
    "            try:\n",
    "                gt_vid = load_pickle(path + season + ep + \"/scores/vid_scores/recapVepisode/SL.pkl\")[prev_ep]\n",
    "            except FileNotFoundError:\n",
    "                continue\n",
    "            try:\n",
    "                file_name = get_file_name(path + season + ep + \"/encodings/dia_encodings/newSrtObj_*.pkl\")\n",
    "            except FileNotFoundError:\n",
    "                continue\n",
    "            boundary = int(file_name.stem.split(\"_\")[-1])+1\n",
    "            try:\n",
    "                gt_dia = load_pickle(path + season +  ep + \"/scores/dia_scores/recapVepisode/SLV.pkl\")[prev_ep][boundary:]\n",
    "            except FileNotFoundError:\n",
    "                continue\n",
    "            if verbose and modality == \"vid\":\n",
    "                print(f\"Total shots in {prev_ep} = \",len(gt_vid))\n",
    "                print(f\"No. of shots from {prev_ep} as RECAP in {ep} = \",sum(gt_vid))\n",
    "                print(f\"No. of Negative shots in {prev_ep} = {len(gt_vid) - sum(gt_vid)}\")\n",
    "                print(\"-\"*100)\n",
    "            elif verbose and modality == \"dia\":\n",
    "                print(f\"Total dialog in {prev_ep} = \",len(gt_dia))\n",
    "                print(f\"No. of dialog from {prev_ep} as RECAP in {ep} = \",sum(gt_dia))\n",
    "                print(f\"No. of Negative dialog in {prev_ep} = {len(gt_dia) - sum(gt_dia)}\")\n",
    "                print(\"-\"*100)\n",
    "            elif verbose and modality == \"both\":\n",
    "                print(f\"Total shots + dia in {prev_ep}\",len(gt_vid)+len(gt_dia))\n",
    "                print(f\"No. of shots + dia from {prev_ep} as RECAP in {ep}\",sum(gt_vid)+sum(gt_dia))\n",
    "                print(\"-\"*100)\n",
    "            # ratio of (negative / positive) labels = will be the importance for positive examples\n",
    "            if modality == \"vid\":\n",
    "                ratio_dict[prev_ep] = (len(gt_vid)-sum(gt_vid))/sum(gt_vid)\n",
    "            elif modality == \"dia\":\n",
    "                ratio_dict[prev_ep] = (len(gt_dia)-sum(gt_dia))/sum(gt_dia)\n",
    "            else:\n",
    "                ratio_dict[prev_ep] = (len(gt_vid)+len(gt_dia)-sum(gt_vid)-sum(gt_dia))/(sum(gt_vid)+sum(gt_dia))\n",
    "        print(f\"Averaged shots from previous episode as RECAP in next episode\",np.mean(list(ratio_dict.values())))\n",
    "        global_dict[season] = ratio_dict\n",
    "    global_lst = []\n",
    "    for v in global_dict.values():\n",
    "        global_lst += list(v.values())\n",
    "    print(f\"Overall weightage to positive labels in {modality.upper()} modality = {np.mean(global_lst)} +- {np.std(global_lst)}\")\n",
    "    print(\"-\"*100)\n",
    "    return global_dict"
   ]
  },
  {
   "cell_type": "markdown",
   "metadata": {},
   "source": [
    "**24-Video/Dialog/Both Shots `+ve` v/s `-ve` count.**"
   ]
  },
  {
   "cell_type": "code",
   "execution_count": 3,
   "metadata": {},
   "outputs": [],
   "source": [
    "# series_24 = \"24\"\n",
    "# seasons_24 = [\"S02\", \"S03\", \"S04\", \"S05\", \"S06\", \"S07\", \"S08\", \"S09\"]\n",
    "# total_eps_24 = [24, 24, 24, 24, 24, 24, 24, 12]\n",
    "\n",
    "series_24 = \"prison-break\"\n",
    "seasons_24 = [\"S02\", \"S03\"]\n",
    "total_eps_24 = [22, 13]"
   ]
  },
  {
   "cell_type": "code",
   "execution_count": 7,
   "metadata": {},
   "outputs": [
    {
     "name": "stdout",
     "output_type": "stream",
     "text": [
      "Averaged shots from previous episode as RECAP in next episode 3.786063826039521\n",
      "Averaged shots from previous episode as RECAP in next episode 5.1637255563730555\n",
      "Overall weightage to positive labels in BOTH modality = 4.287031727978989 +- 1.5305004264957\n",
      "----------------------------------------------------------------------------------------------------\n"
     ]
    }
   ],
   "source": [
    "# _ = count_positives(series_24, seasons_24, total_eps_24, verbose=0)\n",
    "# _ = count_positives(series_24, seasons_24, total_eps_24, modality='dia', verbose=0)\n",
    "_ = count_positives(series_24, seasons_24, total_eps_24, modality='both', verbose=0)"
   ]
  },
  {
   "cell_type": "markdown",
   "metadata": {},
   "source": [
    "**PB-Video/Dialog/Both Shots `+ve` v/s `-ve` count.**"
   ]
  },
  {
   "cell_type": "code",
   "execution_count": 37,
   "metadata": {},
   "outputs": [],
   "source": [
    "series_PB = \"prison-break\"\n",
    "seasons_PB = [\"S02\", \"S03\",]\n",
    "total_eps_PB = [22, 13]"
   ]
  },
  {
   "cell_type": "code",
   "execution_count": 38,
   "metadata": {},
   "outputs": [
    {
     "name": "stdout",
     "output_type": "stream",
     "text": [
      "Averaged shots from previous episode as RECAP in next episode 3.446486026239614\n",
      "Averaged shots from previous episode as RECAP in next episode 4.999294249321901\n",
      "Overall weightage to positive labels in VID modality = 3.9974824924946204\n",
      "----------------------------------------------------------------------------------------------------\n",
      "Averaged shots from previous episode as RECAP in next episode 25.956381713330405\n",
      "Averaged shots from previous episode as RECAP in next episode 34.11261990302173\n",
      "Overall weightage to positive labels in DIA modality = 28.85053074838217\n",
      "----------------------------------------------------------------------------------------------------\n",
      "Averaged shots from previous episode as RECAP in next episode 5.3227365384911085\n",
      "Averaged shots from previous episode as RECAP in next episode 6.891855972340815\n",
      "Overall weightage to positive labels in BOTH modality = 5.879520853728101\n",
      "----------------------------------------------------------------------------------------------------\n"
     ]
    }
   ],
   "source": [
    "_ = count_positives(series_PB, seasons_PB, total_eps_PB)\n",
    "_ = count_positives(series_PB, seasons_PB, total_eps_PB, modality='dia')\n",
    "_ = count_positives(series_PB, seasons_PB, total_eps_PB, modality='both')"
   ]
  },
  {
   "cell_type": "code",
   "execution_count": null,
   "metadata": {},
   "outputs": [],
   "source": []
  }
 ],
 "metadata": {
  "kernelspec": {
   "display_name": "Python 3 (ipykernel)",
   "language": "python",
   "name": "python3"
  },
  "language_info": {
   "codemirror_mode": {
    "name": "ipython",
    "version": 3
   },
   "file_extension": ".py",
   "mimetype": "text/x-python",
   "name": "python",
   "nbconvert_exporter": "python",
   "pygments_lexer": "ipython3",
   "version": "3.8.12"
  },
  "vscode": {
   "interpreter": {
    "hash": "67a8b656f6f5b7c74a892258158331a2ea67e46b3822914a3bafd66497bb051c"
   }
  }
 },
 "nbformat": 4,
 "nbformat_minor": 4
}
